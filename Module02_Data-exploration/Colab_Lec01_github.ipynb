{
  "nbformat": 4,
  "nbformat_minor": 0,
  "metadata": {
    "colab": {
      "provenance": []
    },
    "kernelspec": {
      "name": "python3",
      "display_name": "Python 3"
    },
    "language_info": {
      "name": "python"
    }
  },
  "cells": [
    {
      "cell_type": "markdown",
      "source": [
        "# Let's start with Markdown language\n",
        "First thing first, let's learn some Markdown language. These cells are good for making comments and documenting your notebook."
      ],
      "metadata": {
        "id": "CvtLbwsWPcB2"
      }
    },
    {
      "cell_type": "markdown",
      "source": [
        "### This is an example of different levels in Markdown language\n",
        "- level 1\n",
        "    - level 2\n",
        "    - level 2\n",
        "        * level 3\n",
        "___\n",
        "### Here is how we display different type style in Markdown language\n",
        "**This is bold**\n",
        "\n",
        "_This is italic_\n",
        "\n",
        "> Hello\n",
        "\n",
        "This is an example of print `print(\"Hello World\")`\n",
        "\n",
        "___\n",
        "### You can also display math symbol using `$$`\n",
        "$y = \\sqrt{k}$ + $x^2$ - $sin(y)$"
      ],
      "metadata": {
        "id": "1Lx0pTVGPo71"
      }
    },
    {
      "cell_type": "markdown",
      "source": [
        "## Exercise `#`1\n",
        "### Now it's your turn, try to create a text cell and play around with different Markdown symbols\n",
        "   - Create a text/markdown cell and enter some text\n",
        "   - Create a header using #, subheaders have more consecutive # signs\n",
        "   - Create bullet points using -, +, or * (create sublist by adding 4 spaces before the bullet)\n",
        "   - Create a horizontal line using 3 underscores ___\n",
        "   - Bold text by enclosing the text with **\n",
        "   - Italic text by by enclosing the text with using _\n",
        "   - Create a code section by enclosing it with `\n",
        "   - Create Blockquotes using >\n",
        "   - Write with Math symbols by using \\$. Here is a good cheatsheet: http://joshua.smcvt.edu/undergradmath/undergradmath.pdf\n",
        "   "
      ],
      "metadata": {
        "id": "xGwsRt4wRPeb"
      }
    },
    {
      "cell_type": "markdown",
      "source": [
        "## Here is your answer\n",
        "**Instructions:** Create a text box below with your answer for the above exercise"
      ],
      "metadata": {
        "id": "4Z82hTiFRfiL"
      }
    },
    {
      "cell_type": "markdown",
      "source": [
        "# Getting started with Google Colab and GitHub"
      ],
      "metadata": {
        "id": "zW9-_dkYJ_T0"
      }
    },
    {
      "cell_type": "code",
      "source": [
        "'''Import module'''\n",
        "from google.colab import drive #mount google drive\n",
        "import pandas as pd #dataframe manipulation"
      ],
      "metadata": {
        "id": "croxsyzcKRi1"
      },
      "execution_count": null,
      "outputs": []
    },
    {
      "cell_type": "code",
      "source": [
        "'''Mount your Google Drive'''\n",
        "drive.mount('/content/drive')"
      ],
      "metadata": {
        "id": "v26VSL_qK-Gp",
        "colab": {
          "base_uri": "https://localhost:8080/"
        },
        "outputId": "020f9bc7-7301-4574-f230-60d9f4e10872"
      },
      "execution_count": null,
      "outputs": [
        {
          "output_type": "stream",
          "name": "stdout",
          "text": [
            "Mounted at /content/drive\n"
          ]
        }
      ]
    },
    {
      "cell_type": "markdown",
      "source": [
        "### Import code to GitHub"
      ],
      "metadata": {
        "id": "QUJ-wADiJNLg"
      }
    },
    {
      "cell_type": "code",
      "source": [
        "# '''Connect to your GitHub'''\n",
        "# ### Check RAM\n",
        "# !cat /proc/meminfo\n",
        "\n",
        "# ### Check CPU\n",
        "# !cat /proc/cpuinfo"
      ],
      "metadata": {
        "id": "GCToh9C4LCaQ"
      },
      "execution_count": null,
      "outputs": []
    },
    {
      "cell_type": "code",
      "source": [
        " '''Change the current working directory in the Colab environment'''\n",
        " # Change to a specific folder within your mounted Google Drive\n",
        " %cd drive/MyDrive/SJSU/SJSU_Spring2025\n",
        "# !git clone https://github.com/CS133-DataVisualization/connect_colab.git"
      ],
      "metadata": {
        "colab": {
          "base_uri": "https://localhost:8080/"
        },
        "id": "xUDLd_aocfkg",
        "outputId": "433ef16e-5e67-4e52-ba07-072a189c51af"
      },
      "execution_count": null,
      "outputs": [
        {
          "output_type": "stream",
          "name": "stdout",
          "text": [
            "/content/drive/MyDrive/SJSU/SJSU_Spring2025\n"
          ]
        }
      ]
    },
    {
      "cell_type": "code",
      "source": [
        "!ls"
      ],
      "metadata": {
        "colab": {
          "base_uri": "https://localhost:8080/"
        },
        "id": "elC7o3-_ctfq",
        "outputId": "2445b686-43d4-43f5-bab9-8516fbf03bff"
      },
      "execution_count": 1,
      "outputs": [
        {
          "output_type": "stream",
          "name": "stdout",
          "text": [
            "sample_data\n"
          ]
        }
      ]
    }
  ]
}