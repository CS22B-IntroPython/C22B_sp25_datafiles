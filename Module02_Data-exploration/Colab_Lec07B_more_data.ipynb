{
  "cells": [
    {
      "cell_type": "markdown",
      "metadata": {
        "id": "XXueMou6e2fW"
      },
      "source": [
        "# Explore your data file some more\n",
        "- We are continuing (from Lec 07) our work on data exploring using pandas."
      ]
    },
    {
      "cell_type": "code",
      "execution_count": null,
      "metadata": {
        "id": "hyL8ePRTe2fa"
      },
      "outputs": [],
      "source": [
        "# importing the package(s) we want to use\n",
        "import pandas as pd"
      ]
    },
    {
      "cell_type": "code",
      "execution_count": null,
      "metadata": {
        "id": "HlU8VYjYe2fi",
        "colab": {
          "base_uri": "https://localhost:8080/",
          "height": 206
        },
        "outputId": "6986873a-5a28-4872-905d-c2d48fe60e49"
      },
      "outputs": [
        {
          "output_type": "execute_result",
          "data": {
            "text/plain": [
              "                                Title      Gross  Gross (Adjusted)  Year\n",
              "0                  Gone with the Wind  200852579        1895421694  1939\n",
              "1  Star Wars: Episode IV - A New Hope  460998507        1668979715  1977\n",
              "2                  The Sound of Music  159287539        1335086324  1965\n",
              "3          E.T. the Extra-Terrestrial  435110554        1329174791  1982\n",
              "4                             Titanic  659363944        1270101626  1997"
            ],
            "text/html": [
              "\n",
              "  <div id=\"df-81d535ae-4f98-4470-bc17-04b75299e033\" class=\"colab-df-container\">\n",
              "    <div>\n",
              "<style scoped>\n",
              "    .dataframe tbody tr th:only-of-type {\n",
              "        vertical-align: middle;\n",
              "    }\n",
              "\n",
              "    .dataframe tbody tr th {\n",
              "        vertical-align: top;\n",
              "    }\n",
              "\n",
              "    .dataframe thead th {\n",
              "        text-align: right;\n",
              "    }\n",
              "</style>\n",
              "<table border=\"1\" class=\"dataframe\">\n",
              "  <thead>\n",
              "    <tr style=\"text-align: right;\">\n",
              "      <th></th>\n",
              "      <th>Title</th>\n",
              "      <th>Gross</th>\n",
              "      <th>Gross (Adjusted)</th>\n",
              "      <th>Year</th>\n",
              "    </tr>\n",
              "  </thead>\n",
              "  <tbody>\n",
              "    <tr>\n",
              "      <th>0</th>\n",
              "      <td>Gone with the Wind</td>\n",
              "      <td>200852579</td>\n",
              "      <td>1895421694</td>\n",
              "      <td>1939</td>\n",
              "    </tr>\n",
              "    <tr>\n",
              "      <th>1</th>\n",
              "      <td>Star Wars: Episode IV - A New Hope</td>\n",
              "      <td>460998507</td>\n",
              "      <td>1668979715</td>\n",
              "      <td>1977</td>\n",
              "    </tr>\n",
              "    <tr>\n",
              "      <th>2</th>\n",
              "      <td>The Sound of Music</td>\n",
              "      <td>159287539</td>\n",
              "      <td>1335086324</td>\n",
              "      <td>1965</td>\n",
              "    </tr>\n",
              "    <tr>\n",
              "      <th>3</th>\n",
              "      <td>E.T. the Extra-Terrestrial</td>\n",
              "      <td>435110554</td>\n",
              "      <td>1329174791</td>\n",
              "      <td>1982</td>\n",
              "    </tr>\n",
              "    <tr>\n",
              "      <th>4</th>\n",
              "      <td>Titanic</td>\n",
              "      <td>659363944</td>\n",
              "      <td>1270101626</td>\n",
              "      <td>1997</td>\n",
              "    </tr>\n",
              "  </tbody>\n",
              "</table>\n",
              "</div>\n",
              "    <div class=\"colab-df-buttons\">\n",
              "\n",
              "  <div class=\"colab-df-container\">\n",
              "    <button class=\"colab-df-convert\" onclick=\"convertToInteractive('df-81d535ae-4f98-4470-bc17-04b75299e033')\"\n",
              "            title=\"Convert this dataframe to an interactive table.\"\n",
              "            style=\"display:none;\">\n",
              "\n",
              "  <svg xmlns=\"http://www.w3.org/2000/svg\" height=\"24px\" viewBox=\"0 -960 960 960\">\n",
              "    <path d=\"M120-120v-720h720v720H120Zm60-500h600v-160H180v160Zm220 220h160v-160H400v160Zm0 220h160v-160H400v160ZM180-400h160v-160H180v160Zm440 0h160v-160H620v160ZM180-180h160v-160H180v160Zm440 0h160v-160H620v160Z\"/>\n",
              "  </svg>\n",
              "    </button>\n",
              "\n",
              "  <style>\n",
              "    .colab-df-container {\n",
              "      display:flex;\n",
              "      gap: 12px;\n",
              "    }\n",
              "\n",
              "    .colab-df-convert {\n",
              "      background-color: #E8F0FE;\n",
              "      border: none;\n",
              "      border-radius: 50%;\n",
              "      cursor: pointer;\n",
              "      display: none;\n",
              "      fill: #1967D2;\n",
              "      height: 32px;\n",
              "      padding: 0 0 0 0;\n",
              "      width: 32px;\n",
              "    }\n",
              "\n",
              "    .colab-df-convert:hover {\n",
              "      background-color: #E2EBFA;\n",
              "      box-shadow: 0px 1px 2px rgba(60, 64, 67, 0.3), 0px 1px 3px 1px rgba(60, 64, 67, 0.15);\n",
              "      fill: #174EA6;\n",
              "    }\n",
              "\n",
              "    .colab-df-buttons div {\n",
              "      margin-bottom: 4px;\n",
              "    }\n",
              "\n",
              "    [theme=dark] .colab-df-convert {\n",
              "      background-color: #3B4455;\n",
              "      fill: #D2E3FC;\n",
              "    }\n",
              "\n",
              "    [theme=dark] .colab-df-convert:hover {\n",
              "      background-color: #434B5C;\n",
              "      box-shadow: 0px 1px 3px 1px rgba(0, 0, 0, 0.15);\n",
              "      filter: drop-shadow(0px 1px 2px rgba(0, 0, 0, 0.3));\n",
              "      fill: #FFFFFF;\n",
              "    }\n",
              "  </style>\n",
              "\n",
              "    <script>\n",
              "      const buttonEl =\n",
              "        document.querySelector('#df-81d535ae-4f98-4470-bc17-04b75299e033 button.colab-df-convert');\n",
              "      buttonEl.style.display =\n",
              "        google.colab.kernel.accessAllowed ? 'block' : 'none';\n",
              "\n",
              "      async function convertToInteractive(key) {\n",
              "        const element = document.querySelector('#df-81d535ae-4f98-4470-bc17-04b75299e033');\n",
              "        const dataTable =\n",
              "          await google.colab.kernel.invokeFunction('convertToInteractive',\n",
              "                                                    [key], {});\n",
              "        if (!dataTable) return;\n",
              "\n",
              "        const docLinkHtml = 'Like what you see? Visit the ' +\n",
              "          '<a target=\"_blank\" href=https://colab.research.google.com/notebooks/data_table.ipynb>data table notebook</a>'\n",
              "          + ' to learn more about interactive tables.';\n",
              "        element.innerHTML = '';\n",
              "        dataTable['output_type'] = 'display_data';\n",
              "        await google.colab.output.renderOutput(dataTable, element);\n",
              "        const docLink = document.createElement('div');\n",
              "        docLink.innerHTML = docLinkHtml;\n",
              "        element.appendChild(docLink);\n",
              "      }\n",
              "    </script>\n",
              "  </div>\n",
              "\n",
              "\n",
              "<div id=\"df-d75663ce-2d33-4e0e-b17f-45dc16acfc8c\">\n",
              "  <button class=\"colab-df-quickchart\" onclick=\"quickchart('df-d75663ce-2d33-4e0e-b17f-45dc16acfc8c')\"\n",
              "            title=\"Suggest charts\"\n",
              "            style=\"display:none;\">\n",
              "\n",
              "<svg xmlns=\"http://www.w3.org/2000/svg\" height=\"24px\"viewBox=\"0 0 24 24\"\n",
              "     width=\"24px\">\n",
              "    <g>\n",
              "        <path d=\"M19 3H5c-1.1 0-2 .9-2 2v14c0 1.1.9 2 2 2h14c1.1 0 2-.9 2-2V5c0-1.1-.9-2-2-2zM9 17H7v-7h2v7zm4 0h-2V7h2v10zm4 0h-2v-4h2v4z\"/>\n",
              "    </g>\n",
              "</svg>\n",
              "  </button>\n",
              "\n",
              "<style>\n",
              "  .colab-df-quickchart {\n",
              "      --bg-color: #E8F0FE;\n",
              "      --fill-color: #1967D2;\n",
              "      --hover-bg-color: #E2EBFA;\n",
              "      --hover-fill-color: #174EA6;\n",
              "      --disabled-fill-color: #AAA;\n",
              "      --disabled-bg-color: #DDD;\n",
              "  }\n",
              "\n",
              "  [theme=dark] .colab-df-quickchart {\n",
              "      --bg-color: #3B4455;\n",
              "      --fill-color: #D2E3FC;\n",
              "      --hover-bg-color: #434B5C;\n",
              "      --hover-fill-color: #FFFFFF;\n",
              "      --disabled-bg-color: #3B4455;\n",
              "      --disabled-fill-color: #666;\n",
              "  }\n",
              "\n",
              "  .colab-df-quickchart {\n",
              "    background-color: var(--bg-color);\n",
              "    border: none;\n",
              "    border-radius: 50%;\n",
              "    cursor: pointer;\n",
              "    display: none;\n",
              "    fill: var(--fill-color);\n",
              "    height: 32px;\n",
              "    padding: 0;\n",
              "    width: 32px;\n",
              "  }\n",
              "\n",
              "  .colab-df-quickchart:hover {\n",
              "    background-color: var(--hover-bg-color);\n",
              "    box-shadow: 0 1px 2px rgba(60, 64, 67, 0.3), 0 1px 3px 1px rgba(60, 64, 67, 0.15);\n",
              "    fill: var(--button-hover-fill-color);\n",
              "  }\n",
              "\n",
              "  .colab-df-quickchart-complete:disabled,\n",
              "  .colab-df-quickchart-complete:disabled:hover {\n",
              "    background-color: var(--disabled-bg-color);\n",
              "    fill: var(--disabled-fill-color);\n",
              "    box-shadow: none;\n",
              "  }\n",
              "\n",
              "  .colab-df-spinner {\n",
              "    border: 2px solid var(--fill-color);\n",
              "    border-color: transparent;\n",
              "    border-bottom-color: var(--fill-color);\n",
              "    animation:\n",
              "      spin 1s steps(1) infinite;\n",
              "  }\n",
              "\n",
              "  @keyframes spin {\n",
              "    0% {\n",
              "      border-color: transparent;\n",
              "      border-bottom-color: var(--fill-color);\n",
              "      border-left-color: var(--fill-color);\n",
              "    }\n",
              "    20% {\n",
              "      border-color: transparent;\n",
              "      border-left-color: var(--fill-color);\n",
              "      border-top-color: var(--fill-color);\n",
              "    }\n",
              "    30% {\n",
              "      border-color: transparent;\n",
              "      border-left-color: var(--fill-color);\n",
              "      border-top-color: var(--fill-color);\n",
              "      border-right-color: var(--fill-color);\n",
              "    }\n",
              "    40% {\n",
              "      border-color: transparent;\n",
              "      border-right-color: var(--fill-color);\n",
              "      border-top-color: var(--fill-color);\n",
              "    }\n",
              "    60% {\n",
              "      border-color: transparent;\n",
              "      border-right-color: var(--fill-color);\n",
              "    }\n",
              "    80% {\n",
              "      border-color: transparent;\n",
              "      border-right-color: var(--fill-color);\n",
              "      border-bottom-color: var(--fill-color);\n",
              "    }\n",
              "    90% {\n",
              "      border-color: transparent;\n",
              "      border-bottom-color: var(--fill-color);\n",
              "    }\n",
              "  }\n",
              "</style>\n",
              "\n",
              "  <script>\n",
              "    async function quickchart(key) {\n",
              "      const quickchartButtonEl =\n",
              "        document.querySelector('#' + key + ' button');\n",
              "      quickchartButtonEl.disabled = true;  // To prevent multiple clicks.\n",
              "      quickchartButtonEl.classList.add('colab-df-spinner');\n",
              "      try {\n",
              "        const charts = await google.colab.kernel.invokeFunction(\n",
              "            'suggestCharts', [key], {});\n",
              "      } catch (error) {\n",
              "        console.error('Error during call to suggestCharts:', error);\n",
              "      }\n",
              "      quickchartButtonEl.classList.remove('colab-df-spinner');\n",
              "      quickchartButtonEl.classList.add('colab-df-quickchart-complete');\n",
              "    }\n",
              "    (() => {\n",
              "      let quickchartButtonEl =\n",
              "        document.querySelector('#df-d75663ce-2d33-4e0e-b17f-45dc16acfc8c button');\n",
              "      quickchartButtonEl.style.display =\n",
              "        google.colab.kernel.accessAllowed ? 'block' : 'none';\n",
              "    })();\n",
              "  </script>\n",
              "</div>\n",
              "\n",
              "    </div>\n",
              "  </div>\n"
            ],
            "application/vnd.google.colaboratory.intrinsic+json": {
              "type": "dataframe",
              "variable_name": "movies",
              "summary": "{\n  \"name\": \"movies\",\n  \"rows\": 200,\n  \"fields\": [\n    {\n      \"column\": \"Title\",\n      \"properties\": {\n        \"dtype\": \"string\",\n        \"num_unique_values\": 197,\n        \"samples\": [\n          \"Harry Potter and the Goblet of Fire\",\n          \"Monsters Inc.\",\n          \"Star Wars: Episode VI - Return of the Jedi\"\n        ],\n        \"semantic_type\": \"\",\n        \"description\": \"\"\n      }\n    },\n    {\n      \"column\": \"Gross\",\n      \"properties\": {\n        \"dtype\": \"number\",\n        \"std\": 170567531,\n        \"min\": 9183673,\n        \"max\": 936662225,\n        \"num_unique_values\": 199,\n        \"samples\": [\n          45306425,\n          858373000,\n          229086679\n        ],\n        \"semantic_type\": \"\",\n        \"description\": \"\"\n      }\n    },\n    {\n      \"column\": \"Gross (Adjusted)\",\n      \"properties\": {\n        \"dtype\": \"number\",\n        \"std\": 227797683,\n        \"min\": 370330510,\n        \"max\": 1895421694,\n        \"num_unique_values\": 200,\n        \"samples\": [\n          504180960,\n          892669593,\n          715038755\n        ],\n        \"semantic_type\": \"\",\n        \"description\": \"\"\n      }\n    },\n    {\n      \"column\": \"Year\",\n      \"properties\": {\n        \"dtype\": \"number\",\n        \"std\": 22,\n        \"min\": 1921,\n        \"max\": 2019,\n        \"num_unique_values\": 74,\n        \"samples\": [\n          1997,\n          2011,\n          1994\n        ],\n        \"semantic_type\": \"\",\n        \"description\": \"\"\n      }\n    }\n  ]\n}"
            }
          },
          "metadata": {},
          "execution_count": 6
        }
      ],
      "source": [
        "csvFile = 'https://raw.githubusercontent.com/csbfx/advpy122-data/master/top_movies_2020.csv'\n",
        "\n",
        "movies = pd.read_csv(csvFile)\n",
        "movies.head()"
      ]
    },
    {
      "cell_type": "markdown",
      "metadata": {
        "id": "5dO7zTFue2fj"
      },
      "source": [
        "## Filtering DataFrame with string datatype"
      ]
    },
    {
      "cell_type": "code",
      "execution_count": null,
      "metadata": {
        "id": "XlpEv0YWe2fj",
        "colab": {
          "base_uri": "https://localhost:8080/"
        },
        "outputId": "3ba81f25-e493-4914-9211-d7fa440a1c7d"
      },
      "outputs": [
        {
          "output_type": "execute_result",
          "data": {
            "text/plain": [
              "['The Ten Commandments',\n",
              " 'Batman',\n",
              " 'Superman',\n",
              " 'Wonder Woman',\n",
              " 'Jumanji: Welcome to the Jungle',\n",
              " 'An Officer and a Gentleman',\n",
              " 'Batman Forever',\n",
              " 'Pretty Woman']"
            ]
          },
          "metadata": {},
          "execution_count": 11
        }
      ],
      "source": [
        "### You can search for instances of a substring in a column and return rows\n",
        "# Search for substring and print Title\n",
        "movies[movies['Title'].str.contains(\"man\")]['Title']\n",
        "\n",
        "# # To convert this series to a list\n",
        "man_list = movies[movies['Title'].str.contains(\"man\")]['Title'].tolist()\n",
        "man_list"
      ]
    },
    {
      "cell_type": "markdown",
      "source": [
        "### Working with the list\n",
        "Once you have the list, how do you  \n",
        "1. How to find out how many elements there are in your list?  \n",
        "2. How to get the first 5 elements in the list?"
      ],
      "metadata": {
        "id": "CwOaaHCwva_f"
      }
    },
    {
      "cell_type": "code",
      "source": [
        "### To retrieve the number of elements in the list use len()\n",
        "len(man_list)\n",
        "\n",
        "### To retrieve the first 5 elements of the list, use a slice\n",
        "# man_list[:5]"
      ],
      "metadata": {
        "id": "oHJdDTKiwBIm",
        "colab": {
          "base_uri": "https://localhost:8080/"
        },
        "outputId": "dfabafc6-25a9-470f-ce22-58c682fa825c"
      },
      "execution_count": null,
      "outputs": [
        {
          "output_type": "execute_result",
          "data": {
            "text/plain": [
              "8"
            ]
          },
          "metadata": {},
          "execution_count": 12
        }
      ]
    },
    {
      "cell_type": "markdown",
      "source": [
        "### Finding unique values\n",
        "We can retrieve unique values to ask\n",
        "1. How many times an item occurs in a column?\n",
        "2. To extract out distinct obeservations elements in a column\n",
        "3. To count the number of distinct obeservations in a column"
      ],
      "metadata": {
        "id": "PaKTLLE9wxne"
      }
    },
    {
      "cell_type": "code",
      "source": [
        "### To count the number of times a unique item is found in a column we can use value_count()\n",
        "# movies.Title.value_counts()\n",
        "\n",
        "### To extract out the unique values in a column using the unique() method\n",
        "# movies.Title.unique()\n",
        "\n",
        "### To quantify how many unique using the nunique() method\n",
        "# movies.Title.nunique()"
      ],
      "metadata": {
        "id": "4wIMZAg6xQcI"
      },
      "execution_count": null,
      "outputs": []
    },
    {
      "cell_type": "markdown",
      "source": [
        "###Question: How many distinct movies came out in the 1990s?\n",
        "You can use two approach to this  \n",
        "(1) Filter out the DataFrame based on conditions of the year  \n",
        "(2) Use the str approach to find all years in 1990s"
      ],
      "metadata": {
        "id": "MsyqFnCg0r3h"
      }
    },
    {
      "cell_type": "code",
      "source": [
        "### Your code"
      ],
      "metadata": {
        "id": "Gibj1jpN4R3A"
      },
      "execution_count": null,
      "outputs": []
    },
    {
      "cell_type": "code",
      "source": [
        "### (1) Filter out the DataFrame based on conditions of the year\n",
        "# len(movies[(movies['Year']>=1990)&\\\n",
        "      #  (movies['Year']<=1999)])\n",
        "\n",
        "### (2) Use the str approach to find all years in 1990s\n",
        "# movies[movies['Year'].astype(str).str.contains(\"199\")].Title.nunique()"
      ],
      "metadata": {
        "id": "7uns9Vhs0pu1"
      },
      "execution_count": null,
      "outputs": []
    },
    {
      "cell_type": "markdown",
      "source": [
        "### Question: How many distinct movies came out for each decade?\n",
        "Can you write a for loop to iterate through all the decades?"
      ],
      "metadata": {
        "id": "sRc6y6cT3-oz"
      }
    },
    {
      "cell_type": "code",
      "source": [
        "### Your code"
      ],
      "metadata": {
        "id": "ySMCvIz13-N5"
      },
      "execution_count": null,
      "outputs": []
    },
    {
      "cell_type": "code",
      "source": [
        "# decades=['191','192','193','194','195','196','197','198','199','200','201','202']\n",
        "\n",
        "# count=0\n",
        "# for decade in decades:\n",
        "#   print(decade+str(count), movies[movies['Year'].astype(str).str.contains(decade)].Title.nunique())"
      ],
      "metadata": {
        "id": "z4QbnzAazKG0"
      },
      "execution_count": null,
      "outputs": []
    },
    {
      "cell_type": "markdown",
      "source": [
        "### Working with string elements\n",
        "We can think of string as a list of elements. In a column with string datatype, we can split the string using the split() method."
      ],
      "metadata": {
        "id": "CreHd0QO4jc3"
      }
    },
    {
      "cell_type": "code",
      "source": [
        "### The split method takes a string and split it into a list\n",
        "movies.Title.str.split()\n",
        "\n",
        "## To extract the first element and place it into a new column, assign the new column and run split and extract first element\n",
        "movies['first_word'] = movies.Title.str.split().str[0]"
      ],
      "metadata": {
        "id": "Ubep4PMW44vE"
      },
      "execution_count": null,
      "outputs": []
    }
  ],
  "metadata": {
    "hide_input": false,
    "kernelspec": {
      "display_name": "Python 3",
      "language": "python",
      "name": "python3"
    },
    "language_info": {
      "codemirror_mode": {
        "name": "ipython",
        "version": 3
      },
      "file_extension": ".py",
      "mimetype": "text/x-python",
      "name": "python",
      "nbconvert_exporter": "python",
      "pygments_lexer": "ipython3",
      "version": "3.8.3"
    },
    "toc": {
      "base_numbering": 1,
      "nav_menu": {},
      "number_sections": true,
      "sideBar": true,
      "skip_h1_title": false,
      "title_cell": "Table of Contents",
      "title_sidebar": "Contents",
      "toc_cell": false,
      "toc_position": {},
      "toc_section_display": true,
      "toc_window_display": false
    },
    "colab": {
      "provenance": []
    }
  },
  "nbformat": 4,
  "nbformat_minor": 0
}